{
 "metadata": {
  "language_info": {
   "codemirror_mode": {
    "name": "ipython",
    "version": 3
   },
   "file_extension": ".py",
   "mimetype": "text/x-python",
   "name": "python",
   "nbconvert_exporter": "python",
   "pygments_lexer": "ipython3",
   "version": "3.8.5-final"
  },
  "orig_nbformat": 2,
  "kernelspec": {
   "name": "python3",
   "display_name": "Python 3"
  }
 },
 "nbformat": 4,
 "nbformat_minor": 2,
 "cells": [
  {
   "cell_type": "code",
   "execution_count": 1,
   "metadata": {},
   "outputs": [],
   "source": [
    "import random\n",
    "import pandas as pd \n",
    "import seaborn as sns\n",
    "import matplotlib.pyplot as plt\n",
    "\n",
    "from sklearn.model_selection import train_test_split\n",
    "from sklearn.linear_model import LinearRegression\n",
    "\n",
    "%matplotlib inline "
   ]
  },
  {
   "cell_type": "code",
   "execution_count": 2,
   "metadata": {},
   "outputs": [],
   "source": [
    "class Student:\n",
    "    \n",
    "    def __init__(self,name,dept,email,university,skillset): # <---- Constructor\n",
    "        self.name = name\n",
    "        self.dept = dept\n",
    "        self.email = email\n",
    "        self.university = university\n",
    "        self.skillset = skillset\n",
    "        self.choice = {}\n",
    "    \n",
    "    def get(self):\n",
    "        return {'Student Name':self.name,'Department':self.dept ,'University':self.university ,'Email':self.email,'Skill set':self.skillset,'Choice':self.choice}\n",
    "    \n",
    "    def chooseIntern(self,company):\n",
    "        comp = company.get()\n",
    "        self.choice['Name'] = comp['Name']\n",
    "        self.choice['Offer'] = random.choice(comp['Offers'])\n",
    "        self.choice['Status'] = 'Waiting'\n",
    "        print(self.choice)"
   ]
  },
  {
   "cell_type": "code",
   "execution_count": 3,
   "metadata": {},
   "outputs": [
    {
     "output_type": "stream",
     "name": "stdout",
     "text": [
      "{'Student Name': 'Aneruth', 'Department': 'MACS', 'University': 'VUB', 'Email': 'ane1998@gmail.com', 'Skill set': {'C': 'Master', 'Python': 'Intermediate'}, 'Choice': {}}\n{'Student Name': 'Arun Daniel', 'Department': 'MACS', 'University': 'VUB', 'Email': 'arundanielk@gmail.com', 'Skill set': {'C': 'Intermediate', 'Python': 'Master', 'Full stack': 'Master'}, 'Choice': {}}\n"
     ]
    }
   ],
   "source": [
    "# Calling the student class\n",
    "s = Student('Aneruth','MACS','ane1998@gmail.com','VUB',{'C' : 'Master','Python' : 'Intermediate'})\n",
    "s1 = Student('Arun Daniel','MACS','arundanielk@gmail.com','VUB',{'C' : 'Intermediate','Python' : 'Master', 'Full stack' : 'Master'})\n",
    "print(s.get())\n",
    "print(s1.get())"
   ]
  },
  {
   "cell_type": "code",
   "execution_count": 4,
   "metadata": {},
   "outputs": [],
   "source": [
    "class University:\n",
    "    def __init__(self,name):\n",
    "        self.name = name\n",
    "        self.student_list = []\n",
    "    \n",
    "    def addStudent(self,student):\n",
    "        self.student_list.append(student)\n",
    "    \n",
    "    def get(self):\n",
    "        return {\"University Name\" : self.name,'Student List' : [i.get() for i in self.student_list]}"
   ]
  },
  {
   "cell_type": "code",
   "execution_count": 5,
   "metadata": {},
   "outputs": [
    {
     "output_type": "stream",
     "name": "stdout",
     "text": [
      "{'University Name': 'SVCE', 'Student List': [{'Student Name': 'Aneruth', 'Department': 'MACS', 'University': 'VUB', 'Email': 'ane1998@gmail.com', 'Skill set': {'C': 'Master', 'Python': 'Intermediate'}, 'Choice': {}}, {'Student Name': 'Arun Daniel', 'Department': 'MACS', 'University': 'VUB', 'Email': 'arundanielk@gmail.com', 'Skill set': {'C': 'Intermediate', 'Python': 'Master', 'Full stack': 'Master'}, 'Choice': {}}]}\n"
     ]
    }
   ],
   "source": [
    "u = University('SVCE')\n",
    "\n",
    "u.addStudent(s)\n",
    "u.addStudent(s1)\n",
    "c = u.get()\n",
    "# print(c['Student List'][0]['Department'])\n",
    "print(c)"
   ]
  },
  {
   "cell_type": "code",
   "execution_count": 6,
   "metadata": {},
   "outputs": [],
   "source": [
    "class Intern:\n",
    "    def __init__(self,desc,skill,level):\n",
    "        self.desc = desc\n",
    "        self.skill = skill\n",
    "        self.level = level\n",
    "    \n",
    "    def get(self):\n",
    "        return {'desc':self.desc,'skill':self.skill,'Level':self.level}\n",
    "\n",
    "class Company:\n",
    "    # Getting the song object and placing it in album array \n",
    "    def __init__(self,company_name):\n",
    "        self.company_name = company_name\n",
    "        self.offer = [] \n",
    "    \n",
    "    # Append a song to the album array\n",
    "    def addIntern(self,intern):\n",
    "        self.offer.append(intern)\n",
    "        \n",
    "    def get(self):\n",
    "        temp = {'Name':self.company_name,'Offers':[]}\n",
    "        for i in self.offer:\n",
    "            temp['Offers'].append(i.get())\n",
    "        return temp\n",
    "    \n",
    "class Portal:\n",
    "    def __init__(self):\n",
    "        self.portal = []\n",
    "    \n",
    "    def addComapany(self,company):\n",
    "        self.portal.append(company)\n",
    "\n",
    "    def getOffers(self):\n",
    "        temp = {}\n",
    "        for i in self.portal: # To display company\n",
    "            comp = i.get()\n",
    "            temp[comp['Name']] = []\n",
    "            for j in comp['Offers']: # To dispaly the job offers\n",
    "                temp[comp['Name']].append(j)\n",
    "            \n",
    "        return temp"
   ]
  },
  {
   "cell_type": "code",
   "execution_count": 7,
   "metadata": {},
   "outputs": [
    {
     "output_type": "stream",
     "name": "stdout",
     "text": [
      "Amazon [{'desc': 'SDE', 'skill': 'Python', 'Level': 'Intermediate'}, {'desc': 'Back End Dev', 'skill': 'Java', 'Level': 'Master'}]\n\nTesla [{'desc': 'Senior Full Stack Dev', 'skill': 'Full stack', 'Level': 'Master'}, {'desc': 'Junior Full Stack Dev', 'skill': 'C', 'Level': 'Master'}, {'desc': 'Data Scientist Associate', 'skill': 'Machine Learning', 'Level': 'Beginner'}]\n\n{'Name': 'Amazon', 'Offer': {'desc': 'Back End Dev', 'skill': 'Java', 'Level': 'Master'}, 'Status': 'Waiting'}\n"
     ]
    }
   ],
   "source": [
    "# Creating a job portal\n",
    "j = Intern('SDE','Python','Intermediate')\n",
    "j2 = Intern('Back End Dev','Java','Master')\n",
    "j3 = Intern('Senior Full Stack Dev','Full stack','Master')\n",
    "j4 = Intern('Junior Full Stack Dev','C','Master')\n",
    "j5 = Intern('Data Scientist Associate','Machine Learning','Beginner')\n",
    "\n",
    "# Assigning the job to a company\n",
    "c = Company('Amazon')\n",
    "c.addIntern(j)\n",
    "c.addIntern(j2)\n",
    "# print(c.get())\n",
    "\n",
    "c1 = Company('Tesla')\n",
    "c1.addIntern(j3)\n",
    "c1.addIntern(j4)\n",
    "c1.addIntern(j5)\n",
    "\n",
    "# Portsal class\n",
    "p = Portal()\n",
    "p.addComapany(c)\n",
    "p.addComapany(c1)\n",
    "for k in p.getOffers():\n",
    "    print(k,(p.getOffers()[k]),end='\\n\\n')\n",
    "\n",
    "# Student Choice\n",
    "s.chooseIntern(c)"
   ]
  },
  {
   "cell_type": "code",
   "execution_count": 8,
   "metadata": {},
   "outputs": [],
   "source": [
    "df = pd.read_csv('/Users/aneruthmohanasundaram/Documents/VUB/1/Advanced Programming Concepts /Project/accept.csv')\n",
    "df.head()\n",
    "# Removing the unwanted column in dataset\n",
    "df = df.drop('Serial No.',axis=1)\n",
    "    \n",
    "# Performing Train test split method to train and test the data \n",
    "X = df[['University Score', 'Round 1', 'Round 2 ', 'Research','Paper Presented']]\n",
    "y= df['Chance of Admit ']\n",
    "X_train, X_test, y_train, y_test = train_test_split(X, y, test_size=0.4, random_state=101)\n",
    "# test_size --> Spliting the test size as 60:40 ratio for train and test of our given dataset.abs\n",
    "# random_state --> It'll decide the splitting of data into train and test indices in our case.(The number can be randomly described.)\n",
    "\n",
    "# Intialising the model for our project\n",
    "lr = LinearRegression()\n",
    "\n",
    "# Model Fiting \n",
    "fit = lr.fit(X_train,y_train)\n",
    "\n",
    "# Model Predicting\n",
    "pre = lr.predict(X_test)"
   ]
  },
  {
   "cell_type": "code",
   "execution_count": 9,
   "metadata": {},
   "outputs": [
    {
     "output_type": "stream",
     "name": "stdout",
     "text": [
      "Chance of Acceptance is: [88.68]\n"
     ]
    }
   ],
   "source": [
    "# Output\n",
    "chance = [[4.5,4.5,2.5,1,10]]\n",
    "\n",
    "pre = lr.predict(chance)\n",
    "print('Chance of Acceptance is:',(pre*100).round(2))"
   ]
  },
  {
   "cell_type": "code",
   "execution_count": 10,
   "metadata": {},
   "outputs": [
    {
     "output_type": "stream",
     "name": "stdout",
     "text": [
      "You are selected with 88.68\n"
     ]
    }
   ],
   "source": [
    "for i in pre:\n",
    "    if (i*100).round(2) < 70:\n",
    "        print('Candiate not Selected')\n",
    "    else:\n",
    "        print(f'You are selected with {(i*100).round(2)}')"
   ]
  },
  {
   "cell_type": "code",
   "execution_count": 33,
   "metadata": {
    "tags": []
   },
   "outputs": [
    {
     "output_type": "stream",
     "name": "stdout",
     "text": [
      "Candiate not Selected.He/she scored 56.77%\n"
     ]
    }
   ],
   "source": [
    "chance = [[1.5,2.5,0.5,1,1]]\n",
    "\n",
    "if (abs(chance[0][0])<=5) and (abs(chance[0][1])<=5) and (abs(chance[0][2])<=5):\n",
    "    if chance[0][3]<=1:\n",
    "        pre = lr.predict(chance)\n",
    "        for i in pre:\n",
    "            if abs((i*100).round(2)) <= 70:\n",
    "                print(f'Candiate not Selected.He/she scored {(i*100).round(2)}%')\n",
    "            elif (i*100).round(2) > 100:\n",
    "                print('You are over qualified.')\n",
    "            else:\n",
    "                print(f'You are selected with {(i*100).round(2)}%')\n",
    "    else:\n",
    "        print('Wrong Input')\n",
    "else:\n",
    "        print('Wrong Input')"
   ]
  },
  {
   "cell_type": "code",
   "execution_count": 18,
   "metadata": {},
   "outputs": [
    {
     "output_type": "execute_result",
     "data": {
      "text/plain": [
       "False"
      ]
     },
     "metadata": {},
     "execution_count": 18
    }
   ],
   "source": [
    "True and False and True"
   ]
  },
  {
   "cell_type": "code",
   "execution_count": null,
   "metadata": {},
   "outputs": [],
   "source": []
  }
 ]
}